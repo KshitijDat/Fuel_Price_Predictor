{
  "nbformat": 4,
  "nbformat_minor": 0,
  "metadata": {
    "colab": {
      "name": "fuel.ipynb",
      "provenance": [],
      "collapsed_sections": [],
      "include_colab_link": true
    },
    "kernelspec": {
      "name": "python3",
      "display_name": "Python 3"
    }
  },
  "cells": [
    {
      "cell_type": "markdown",
      "metadata": {
        "id": "view-in-github",
        "colab_type": "text"
      },
      "source": [
        "<a href=\"https://colab.research.google.com/github/Saurabh-Datta/Fuel_Price_Predictor-1/blob/main/fuel.ipynb\" target=\"_parent\"><img src=\"https://colab.research.google.com/assets/colab-badge.svg\" alt=\"Open In Colab\"/></a>"
      ]
    },
    {
      "cell_type": "markdown",
      "metadata": {
        "id": "LeamvpPVXuS_"
      },
      "source": [
        "# Fuel Price Predictor"
      ]
    },
    {
      "cell_type": "markdown",
      "metadata": {
        "id": "O2wvZ7SKXzVC"
      },
      "source": [
        "## Importing the libraries"
      ]
    },
    {
      "cell_type": "code",
      "metadata": {
        "id": "PVmESEFZX4Ig"
      },
      "source": [
        "import numpy as np\n",
        "import matplotlib.pyplot as plt\n",
        "import pandas as pd"
      ],
      "execution_count": null,
      "outputs": []
    },
    {
      "cell_type": "markdown",
      "metadata": {
        "id": "zgbK_F8-X7em"
      },
      "source": [
        "## Importing the dataset"
      ]
    },
    {
      "cell_type": "code",
      "metadata": {
        "id": "D4xSqhezQV8K"
      },
      "source": [
        "dataset = pd.read_csv(\"https://raw.githubusercontent.com/Saurabh-Datta/Fuel_Price_Predictor/main/petrol.csv\")"
      ],
      "execution_count": null,
      "outputs": []
    },
    {
      "cell_type": "code",
      "metadata": {
        "id": "adBE4tjQX_Bh"
      },
      "source": [
        "X = dataset.iloc[:, 0].values\n",
        "y = dataset.iloc[:, 1:].values"
      ],
      "execution_count": null,
      "outputs": []
    },
    {
      "cell_type": "code",
      "metadata": {
        "colab": {
          "base_uri": "https://localhost:8080/"
        },
        "id": "N266hDRjUeL5",
        "outputId": "dec69867-f822-4f09-aa56-5ccf7b8dc46c"
      },
      "source": [
        "print(X)"
      ],
      "execution_count": null,
      "outputs": [
        {
          "output_type": "stream",
          "name": "stdout",
          "text": [
            "['April 19 2018' 'April 18 2018' 'April 17 2018' 'April 16 2018'\n",
            " 'April 15 2018' 'April 14 2018' 'April 13 2018' 'April 12 2018'\n",
            " 'April 11 2018' 'April 10 2018' 'April 09 2018' 'April 08 2018'\n",
            " 'April 07 2018' 'April 06 2018' 'April 05 2018' 'April 04 2018'\n",
            " 'April 03 2018' 'April 02 2018' 'April 01 2018' 'March 31 2018'\n",
            " 'March 30 2018' 'March 29 2018' 'March 28 2018' 'March 27 2018'\n",
            " 'March 26 2018' 'March 25 2018' 'March 24 2018' 'March 23 2018'\n",
            " 'March 22 2018' 'March 21 2018' 'March 20 2018' 'March 19 2018'\n",
            " 'March 18 2018' 'March 17 2018' 'March 16 2018' 'March 15 2018'\n",
            " 'March 14 2018' 'March 13 2018' 'March 12 2018' 'March 11 2018'\n",
            " 'March 10 2018' 'March 09 2018' 'March 08 2018' 'March 07 2018'\n",
            " 'March 06 2018' 'March 05 2018' 'March 04 2018' 'March 03 2018'\n",
            " 'March 02 2018' 'March 01 2018' 'February 28 2018' 'February 27 2018'\n",
            " 'February 26 2018' 'February 25 2018' 'February 24 2018'\n",
            " 'February 23 2018' 'February 22 2018' 'February 21 2018'\n",
            " 'February 20 2018' 'February 19 2018' 'February 18 2018'\n",
            " 'February 17 2018' 'February 16 2018' 'February 15 2018'\n",
            " 'February 14 2018' 'February 13 2018' 'February 12 2018'\n",
            " 'February 11 2018' 'February 10 2018' 'February 09 2018'\n",
            " 'February 08 2018' 'February 07 2018' 'February 06 2018'\n",
            " 'February 05 2018' 'February 04 2018' 'February 03 2018'\n",
            " 'February 02 2018' 'February 01 2018' 'January 31 2018' 'January 30 2018'\n",
            " 'January 29 2018' 'January 28 2018' 'January 27 2018' 'January 26 2018'\n",
            " 'January 25 2018' 'January 24 2018' 'January 23 2018' 'January 22 2018'\n",
            " 'January 21 2018' 'January 20 2018' 'January 19 2018' 'January 18 2018'\n",
            " 'January 17 2018' 'January 16 2018' 'January 15 2018' 'January 14 2018'\n",
            " 'January 13 2018' 'January 12 2018' 'January 11 2018' 'January 10 2018'\n",
            " 'January 09 2018' 'January 08 2018' 'January 07 2018' 'January 06 2018'\n",
            " 'January 05 2018' 'January 04 2018' 'January 03 2018' 'January 02 2018'\n",
            " 'January 01 2018' 'December 31 2017' 'December 30 2017'\n",
            " 'December 29 2017' 'December 28 2017' 'December 27 2017'\n",
            " 'December 26 2017' 'December 25 2017' 'December 24 2017'\n",
            " 'December 23 2017' 'December 22 2017' 'December 21 2017'\n",
            " 'December 20 2017' 'December 19 2017' 'December 18 2017'\n",
            " 'December 17 2017' 'December 16 2017' 'December 15 2017'\n",
            " 'December 14 2017' 'December 13 2017' 'December 12 2017'\n",
            " 'December 11 2017' 'December 10 2017' 'December 09 2017'\n",
            " 'December 08 2017' 'December 07 2017' 'December 06 2017'\n",
            " 'December 05 2017' 'December 04 2017' 'December 03 2017'\n",
            " 'December 02 2017' 'December 01 2017' 'November 30 2017'\n",
            " 'November 29 2017' 'November 28 2017' 'November 27 2017'\n",
            " 'November 26 2017' 'November 25 2017' 'November 24 2017'\n",
            " 'November 23 2017' 'November 22 2017' 'November 21 2017'\n",
            " 'November 20 2017' 'November 19 2017' 'November 18 2017'\n",
            " 'November 17 2017' 'November 16 2017' 'November 15 2017'\n",
            " 'November 14 2017' 'November 13 2017' 'November 12 2017'\n",
            " 'November 11 2017' 'November 10 2017' 'November 09 2017'\n",
            " 'November 08 2017' 'November 07 2017' 'November 06 2017'\n",
            " 'November 05 2017' 'November 04 2017' 'November 03 2017'\n",
            " 'November 02 2017' 'November 01 2017' 'October 31 2017' 'October 30 2017'\n",
            " 'October 29 2017' 'October 28 2017' 'October 27 2017' 'October 26 2017'\n",
            " 'October 25 2017' 'October 24 2017' 'October 23 2017' 'October 22 2017'\n",
            " 'October 21 2017' 'October 20 2017' 'October 19 2017' 'October 18 2017'\n",
            " 'October 17 2017' 'October 16 2017' 'October 15 2017' 'October 14 2017'\n",
            " 'October 13 2017' 'October 13 2017' 'October 11 2017' 'October 10 2017'\n",
            " 'October 09 2017' 'October 08 2017' 'October 07 2017' 'October 06 2017'\n",
            " 'October 05 2017' 'October 04 2017' 'October 03 2017' 'October 02 2017'\n",
            " 'October 01 2017' 'September 30 2017' 'September 29 2017'\n",
            " 'September 28 2017' 'September 27 2017' 'September 26 2017'\n",
            " 'September 25 2017' 'September 24 2017' 'September 23 2017'\n",
            " 'September 22 2017' 'September 21 2017' 'September 20 2017'\n",
            " 'September 19 2017' 'September 18 2017' 'September 17 2017'\n",
            " 'September 16 2017' 'September 15 2017' 'September 14 2017'\n",
            " 'September 13 2017' 'September 12 2017' 'September 11 2017'\n",
            " 'September 10 2017' 'September 09 2017' 'September 08 2017'\n",
            " 'September 07 2017' 'September 06 2017' 'September 05 2017'\n",
            " 'September 04 2017' 'September 03 2017' 'September 02 2017'\n",
            " 'September 01 2017' 'August 31 2017' 'August 30 2017' 'August 29 2017'\n",
            " 'August 28 2017' 'August 27 2017' 'August 26 2017' 'August 25 2017'\n",
            " 'August 24 2017' 'August 23 2017' 'August 22 2017' 'August 21 2017'\n",
            " 'August 20 2017' 'August 19 2017' 'August 18 2017' 'August 17 2017'\n",
            " 'August 16 2017' 'August 15 2017' 'August 14 2017' 'August 13 2017'\n",
            " 'August 12 2017' 'August 11 2017' 'August 10 2017' 'August 09 2017'\n",
            " 'August 08 2017' 'August 07 2017' 'August 06 2017' 'August 05 2017'\n",
            " 'August 04 2017' 'August 03 2017' 'August 02 2017' 'August 01 2017'\n",
            " 'July 31 2017' 'July 30 2017' 'July 29 2017' 'July 28 2017'\n",
            " 'July 27 2017' 'July 26 2017' 'July 25 2017' 'July 24 2017'\n",
            " 'July 23 2017' 'July 22 2017' 'July 21 2017' 'July 20 2017'\n",
            " 'July 19 2017' 'July 18 2017' 'July 17 2017' 'July 16 2017'\n",
            " 'July 15 2017' 'July 14 2017' 'July 13 2017' 'July 12 2017'\n",
            " 'July 11 2017' 'July 10 2017' 'July 09 2017' 'July 08 2017'\n",
            " 'July 07 2017' 'July 06 2017' 'July 05 2017' 'July 04 2017'\n",
            " 'July 03 2017' 'July 02 2017' 'July 01 2017' 'June 30 2017'\n",
            " 'June 29 2017' 'June 28 2017' 'June 27 2017' 'June 26 2017'\n",
            " 'June 25 2017' 'June 24 2017' 'June 23 2017' 'June 22 2017'\n",
            " 'June 21 2017' 'June 20 2017' 'June 19 2017' 'June 18 2017'\n",
            " 'June 17 2017' 'June 16 2017' 'June 01 2017' 'May 16 2017' 'May 16 2017'\n",
            " 'May 01 2017' 'April 16 2017' 'April 01 2017' 'January 16 2017'\n",
            " 'January 02 2017' 'December 17 2016' 'December 01 2016'\n",
            " 'November 16 2016' 'November 06 2016' 'October 16 2016' 'October 05 2016'\n",
            " 'October 01 2016' 'September 16 2016' 'September 01 2016'\n",
            " 'August 16 2016' 'August 01 2016' 'July 16 2016' 'July 01 2016'\n",
            " 'June 16 2016' 'June 01 2016' 'May 17 2016' 'May 01 2016' 'April 16 2016'\n",
            " 'April 09 2016' 'April 05 2016' 'March 17 2016' 'March 10 2016'\n",
            " 'March 01 2016' 'February 18 2016' 'February 01 2016' 'January 19 2016'\n",
            " 'January 16 2016' 'January 01 2016' 'December 16 2015' 'December 01 2015'\n",
            " 'November 16 2015' 'November 01 2015' 'September 01 2015'\n",
            " 'August 16 2015' 'August 01 2015' 'July 16 2015' 'July 01 2015'\n",
            " 'June 16 2015' 'May 16 2015' 'May 01 2015' 'April 16 2015'\n",
            " 'April 02 2015' 'March 01 2015' 'February 16 2015' 'February 04 2015'\n",
            " 'January 17 2015' 'December 16 2014' 'December 01 2014'\n",
            " 'November 01 2014' 'October 15 2014' 'October 01 2014' 'August 31 2014'\n",
            " 'August 15 2014' 'August 01 2014' 'July 01 2014' 'June 25 2014'\n",
            " 'June 07 2014' 'June 01 2014']\n"
          ]
        }
      ]
    },
    {
      "cell_type": "code",
      "metadata": {
        "colab": {
          "base_uri": "https://localhost:8080/"
        },
        "id": "hQM7NRsAUiSh",
        "outputId": "4ccf55d7-26ab-4fe9-e324-36ca68e2a89d"
      },
      "source": [
        "print(y)"
      ],
      "execution_count": null,
      "outputs": [
        {
          "output_type": "stream",
          "name": "stdout",
          "text": [
            "[[74.07 76.77 81.92 76.84]\n",
            " [74.02 76.73 81.87 76.79]\n",
            " [74.02 76.73 81.87 76.79]\n",
            " ...\n",
            " [71.56 79.42 80.16 74.76]\n",
            " [71.51 79.36 80.11 74.71]\n",
            " [71.51 79.36 80.11 74.71]]\n"
          ]
        }
      ]
    },
    {
      "cell_type": "code",
      "metadata": {
        "colab": {
          "base_uri": "https://localhost:8080/"
        },
        "id": "-ZosYCbcU2MR",
        "outputId": "a89e9c5a-5d8d-433c-f9d5-910ee74e6561"
      },
      "source": [
        "X.size"
      ],
      "execution_count": null,
      "outputs": [
        {
          "output_type": "execute_result",
          "data": {
            "text/plain": [
              "374"
            ]
          },
          "metadata": {},
          "execution_count": 50
        }
      ]
    },
    {
      "cell_type": "code",
      "metadata": {
        "id": "KjHf6KQHWTka"
      },
      "source": [
        "m = [0]*374"
      ],
      "execution_count": null,
      "outputs": []
    },
    {
      "cell_type": "code",
      "metadata": {
        "id": "60nPYrhLQaIa"
      },
      "source": [
        "mo = [0]*374"
      ],
      "execution_count": null,
      "outputs": []
    },
    {
      "cell_type": "code",
      "metadata": {
        "id": "wi-YmEmAVkth"
      },
      "source": [
        "i=0\n",
        "while (i<374):\n",
        "  if (X[i].find(\"January\") != -1):\n",
        "    m[i]=0\n",
        "    mo[i]=1\n",
        "  if (X[i].find(\"February\") != -1):\n",
        "    m[i]=31\n",
        "    mo[i]=2\n",
        "  if (X[i].find(\"March\") != -1):\n",
        "    m[i]=59\n",
        "    mo[i]=3\n",
        "  if (X[i].find(\"April\") != -1):\n",
        "    m[i]=90\n",
        "    mo[i]=4\n",
        "  if (X[i].find(\"May\") != -1):\n",
        "    m[i]=120\n",
        "    mo[i]=5\n",
        "  if (X[i].find(\"June\") != -1):\n",
        "    m[i]=151\n",
        "    mo[i]=6\n",
        "  if (X[i].find(\"July\") != -1):\n",
        "    m[i]=181\n",
        "    mo[i]=7\n",
        "  if (X[i].find(\"August\") != -1):\n",
        "    m[i]=212\n",
        "    mo[i]=8\n",
        "  if (X[i].find(\"September\") != -1):\n",
        "    m[i]=243\n",
        "    mo[i]=9\n",
        "  if (X[i].find(\"October\") != -1):\n",
        "    m[i]=273\n",
        "    mo[i]=10\n",
        "  if (X[i].find(\"November\") != -1):\n",
        "    m[i]=304\n",
        "    mo[i]=11\n",
        "  if (X[i].find(\"December\") != -1):\n",
        "    m[i]=334\n",
        "    mo[i]=12\n",
        "  i+=1"
      ],
      "execution_count": null,
      "outputs": []
    },
    {
      "cell_type": "code",
      "metadata": {
        "colab": {
          "base_uri": "https://localhost:8080/"
        },
        "id": "MC5qzudzYtIK",
        "outputId": "fbb26562-ddf7-46cf-8f21-91bd965e9adc"
      },
      "source": [
        "m"
      ],
      "execution_count": null,
      "outputs": [
        {
          "output_type": "execute_result",
          "data": {
            "text/plain": [
              "[90,\n",
              " 90,\n",
              " 90,\n",
              " 90,\n",
              " 90,\n",
              " 90,\n",
              " 90,\n",
              " 90,\n",
              " 90,\n",
              " 90,\n",
              " 90,\n",
              " 90,\n",
              " 90,\n",
              " 90,\n",
              " 90,\n",
              " 90,\n",
              " 90,\n",
              " 90,\n",
              " 90,\n",
              " 59,\n",
              " 59,\n",
              " 59,\n",
              " 59,\n",
              " 59,\n",
              " 59,\n",
              " 59,\n",
              " 59,\n",
              " 59,\n",
              " 59,\n",
              " 59,\n",
              " 59,\n",
              " 59,\n",
              " 59,\n",
              " 59,\n",
              " 59,\n",
              " 59,\n",
              " 59,\n",
              " 59,\n",
              " 59,\n",
              " 59,\n",
              " 59,\n",
              " 59,\n",
              " 59,\n",
              " 59,\n",
              " 59,\n",
              " 59,\n",
              " 59,\n",
              " 59,\n",
              " 59,\n",
              " 59,\n",
              " 31,\n",
              " 31,\n",
              " 31,\n",
              " 31,\n",
              " 31,\n",
              " 31,\n",
              " 31,\n",
              " 31,\n",
              " 31,\n",
              " 31,\n",
              " 31,\n",
              " 31,\n",
              " 31,\n",
              " 31,\n",
              " 31,\n",
              " 31,\n",
              " 31,\n",
              " 31,\n",
              " 31,\n",
              " 31,\n",
              " 31,\n",
              " 31,\n",
              " 31,\n",
              " 31,\n",
              " 31,\n",
              " 31,\n",
              " 31,\n",
              " 31,\n",
              " 0,\n",
              " 0,\n",
              " 0,\n",
              " 0,\n",
              " 0,\n",
              " 0,\n",
              " 0,\n",
              " 0,\n",
              " 0,\n",
              " 0,\n",
              " 0,\n",
              " 0,\n",
              " 0,\n",
              " 0,\n",
              " 0,\n",
              " 0,\n",
              " 0,\n",
              " 0,\n",
              " 0,\n",
              " 0,\n",
              " 0,\n",
              " 0,\n",
              " 0,\n",
              " 0,\n",
              " 0,\n",
              " 0,\n",
              " 0,\n",
              " 0,\n",
              " 0,\n",
              " 0,\n",
              " 0,\n",
              " 334,\n",
              " 334,\n",
              " 334,\n",
              " 334,\n",
              " 334,\n",
              " 334,\n",
              " 334,\n",
              " 334,\n",
              " 334,\n",
              " 334,\n",
              " 334,\n",
              " 334,\n",
              " 334,\n",
              " 334,\n",
              " 334,\n",
              " 334,\n",
              " 334,\n",
              " 334,\n",
              " 334,\n",
              " 334,\n",
              " 334,\n",
              " 334,\n",
              " 334,\n",
              " 334,\n",
              " 334,\n",
              " 334,\n",
              " 334,\n",
              " 334,\n",
              " 334,\n",
              " 334,\n",
              " 334,\n",
              " 304,\n",
              " 304,\n",
              " 304,\n",
              " 304,\n",
              " 304,\n",
              " 304,\n",
              " 304,\n",
              " 304,\n",
              " 304,\n",
              " 304,\n",
              " 304,\n",
              " 304,\n",
              " 304,\n",
              " 304,\n",
              " 304,\n",
              " 304,\n",
              " 304,\n",
              " 304,\n",
              " 304,\n",
              " 304,\n",
              " 304,\n",
              " 304,\n",
              " 304,\n",
              " 304,\n",
              " 304,\n",
              " 304,\n",
              " 304,\n",
              " 304,\n",
              " 304,\n",
              " 304,\n",
              " 273,\n",
              " 273,\n",
              " 273,\n",
              " 273,\n",
              " 273,\n",
              " 273,\n",
              " 273,\n",
              " 273,\n",
              " 273,\n",
              " 273,\n",
              " 273,\n",
              " 273,\n",
              " 273,\n",
              " 273,\n",
              " 273,\n",
              " 273,\n",
              " 273,\n",
              " 273,\n",
              " 273,\n",
              " 273,\n",
              " 273,\n",
              " 273,\n",
              " 273,\n",
              " 273,\n",
              " 273,\n",
              " 273,\n",
              " 273,\n",
              " 273,\n",
              " 273,\n",
              " 273,\n",
              " 273,\n",
              " 243,\n",
              " 243,\n",
              " 243,\n",
              " 243,\n",
              " 243,\n",
              " 243,\n",
              " 243,\n",
              " 243,\n",
              " 243,\n",
              " 243,\n",
              " 243,\n",
              " 243,\n",
              " 243,\n",
              " 243,\n",
              " 243,\n",
              " 243,\n",
              " 243,\n",
              " 243,\n",
              " 243,\n",
              " 243,\n",
              " 243,\n",
              " 243,\n",
              " 243,\n",
              " 243,\n",
              " 243,\n",
              " 243,\n",
              " 243,\n",
              " 243,\n",
              " 243,\n",
              " 243,\n",
              " 212,\n",
              " 212,\n",
              " 212,\n",
              " 212,\n",
              " 212,\n",
              " 212,\n",
              " 212,\n",
              " 212,\n",
              " 212,\n",
              " 212,\n",
              " 212,\n",
              " 212,\n",
              " 212,\n",
              " 212,\n",
              " 212,\n",
              " 212,\n",
              " 212,\n",
              " 212,\n",
              " 212,\n",
              " 212,\n",
              " 212,\n",
              " 212,\n",
              " 212,\n",
              " 212,\n",
              " 212,\n",
              " 212,\n",
              " 212,\n",
              " 212,\n",
              " 212,\n",
              " 212,\n",
              " 212,\n",
              " 181,\n",
              " 181,\n",
              " 181,\n",
              " 181,\n",
              " 181,\n",
              " 181,\n",
              " 181,\n",
              " 181,\n",
              " 181,\n",
              " 181,\n",
              " 181,\n",
              " 181,\n",
              " 181,\n",
              " 181,\n",
              " 181,\n",
              " 181,\n",
              " 181,\n",
              " 181,\n",
              " 181,\n",
              " 181,\n",
              " 181,\n",
              " 181,\n",
              " 181,\n",
              " 181,\n",
              " 181,\n",
              " 181,\n",
              " 181,\n",
              " 181,\n",
              " 181,\n",
              " 181,\n",
              " 181,\n",
              " 151,\n",
              " 151,\n",
              " 151,\n",
              " 151,\n",
              " 151,\n",
              " 151,\n",
              " 151,\n",
              " 151,\n",
              " 151,\n",
              " 151,\n",
              " 151,\n",
              " 151,\n",
              " 151,\n",
              " 151,\n",
              " 151,\n",
              " 151,\n",
              " 120,\n",
              " 120,\n",
              " 120,\n",
              " 90,\n",
              " 90,\n",
              " 0,\n",
              " 0,\n",
              " 334,\n",
              " 334,\n",
              " 304,\n",
              " 304,\n",
              " 273,\n",
              " 273,\n",
              " 273,\n",
              " 243,\n",
              " 243,\n",
              " 212,\n",
              " 212,\n",
              " 181,\n",
              " 181,\n",
              " 151,\n",
              " 151,\n",
              " 120,\n",
              " 120,\n",
              " 90,\n",
              " 90,\n",
              " 90,\n",
              " 59,\n",
              " 59,\n",
              " 59,\n",
              " 31,\n",
              " 31,\n",
              " 0,\n",
              " 0,\n",
              " 0,\n",
              " 334,\n",
              " 334,\n",
              " 304,\n",
              " 304,\n",
              " 243,\n",
              " 212,\n",
              " 212,\n",
              " 181,\n",
              " 181,\n",
              " 151,\n",
              " 120,\n",
              " 120,\n",
              " 90,\n",
              " 90,\n",
              " 59,\n",
              " 31,\n",
              " 31,\n",
              " 0,\n",
              " 334,\n",
              " 334,\n",
              " 304,\n",
              " 273,\n",
              " 273,\n",
              " 212,\n",
              " 212,\n",
              " 212,\n",
              " 181,\n",
              " 151,\n",
              " 151,\n",
              " 151]"
            ]
          },
          "metadata": {},
          "execution_count": 54
        }
      ]
    },
    {
      "cell_type": "code",
      "metadata": {
        "id": "mrDJnBMiZhrh"
      },
      "source": [
        "ye = [0]*374"
      ],
      "execution_count": null,
      "outputs": []
    },
    {
      "cell_type": "code",
      "metadata": {
        "id": "wnBfI8iCY9qw"
      },
      "source": [
        "i = 0\n",
        "while (i<374):\n",
        "  ye[i]= (int(X[i][-4:])-2013)\n",
        "  i+=1"
      ],
      "execution_count": null,
      "outputs": []
    },
    {
      "cell_type": "code",
      "metadata": {
        "colab": {
          "base_uri": "https://localhost:8080/"
        },
        "id": "z46SKnlUa8wR",
        "outputId": "d64b85fe-f585-4f2c-d459-3b24a0a9c2b3"
      },
      "source": [
        "ye"
      ],
      "execution_count": null,
      "outputs": [
        {
          "output_type": "execute_result",
          "data": {
            "text/plain": [
              "[5,\n",
              " 5,\n",
              " 5,\n",
              " 5,\n",
              " 5,\n",
              " 5,\n",
              " 5,\n",
              " 5,\n",
              " 5,\n",
              " 5,\n",
              " 5,\n",
              " 5,\n",
              " 5,\n",
              " 5,\n",
              " 5,\n",
              " 5,\n",
              " 5,\n",
              " 5,\n",
              " 5,\n",
              " 5,\n",
              " 5,\n",
              " 5,\n",
              " 5,\n",
              " 5,\n",
              " 5,\n",
              " 5,\n",
              " 5,\n",
              " 5,\n",
              " 5,\n",
              " 5,\n",
              " 5,\n",
              " 5,\n",
              " 5,\n",
              " 5,\n",
              " 5,\n",
              " 5,\n",
              " 5,\n",
              " 5,\n",
              " 5,\n",
              " 5,\n",
              " 5,\n",
              " 5,\n",
              " 5,\n",
              " 5,\n",
              " 5,\n",
              " 5,\n",
              " 5,\n",
              " 5,\n",
              " 5,\n",
              " 5,\n",
              " 5,\n",
              " 5,\n",
              " 5,\n",
              " 5,\n",
              " 5,\n",
              " 5,\n",
              " 5,\n",
              " 5,\n",
              " 5,\n",
              " 5,\n",
              " 5,\n",
              " 5,\n",
              " 5,\n",
              " 5,\n",
              " 5,\n",
              " 5,\n",
              " 5,\n",
              " 5,\n",
              " 5,\n",
              " 5,\n",
              " 5,\n",
              " 5,\n",
              " 5,\n",
              " 5,\n",
              " 5,\n",
              " 5,\n",
              " 5,\n",
              " 5,\n",
              " 5,\n",
              " 5,\n",
              " 5,\n",
              " 5,\n",
              " 5,\n",
              " 5,\n",
              " 5,\n",
              " 5,\n",
              " 5,\n",
              " 5,\n",
              " 5,\n",
              " 5,\n",
              " 5,\n",
              " 5,\n",
              " 5,\n",
              " 5,\n",
              " 5,\n",
              " 5,\n",
              " 5,\n",
              " 5,\n",
              " 5,\n",
              " 5,\n",
              " 5,\n",
              " 5,\n",
              " 5,\n",
              " 5,\n",
              " 5,\n",
              " 5,\n",
              " 5,\n",
              " 5,\n",
              " 5,\n",
              " 4,\n",
              " 4,\n",
              " 4,\n",
              " 4,\n",
              " 4,\n",
              " 4,\n",
              " 4,\n",
              " 4,\n",
              " 4,\n",
              " 4,\n",
              " 4,\n",
              " 4,\n",
              " 4,\n",
              " 4,\n",
              " 4,\n",
              " 4,\n",
              " 4,\n",
              " 4,\n",
              " 4,\n",
              " 4,\n",
              " 4,\n",
              " 4,\n",
              " 4,\n",
              " 4,\n",
              " 4,\n",
              " 4,\n",
              " 4,\n",
              " 4,\n",
              " 4,\n",
              " 4,\n",
              " 4,\n",
              " 4,\n",
              " 4,\n",
              " 4,\n",
              " 4,\n",
              " 4,\n",
              " 4,\n",
              " 4,\n",
              " 4,\n",
              " 4,\n",
              " 4,\n",
              " 4,\n",
              " 4,\n",
              " 4,\n",
              " 4,\n",
              " 4,\n",
              " 4,\n",
              " 4,\n",
              " 4,\n",
              " 4,\n",
              " 4,\n",
              " 4,\n",
              " 4,\n",
              " 4,\n",
              " 4,\n",
              " 4,\n",
              " 4,\n",
              " 4,\n",
              " 4,\n",
              " 4,\n",
              " 4,\n",
              " 4,\n",
              " 4,\n",
              " 4,\n",
              " 4,\n",
              " 4,\n",
              " 4,\n",
              " 4,\n",
              " 4,\n",
              " 4,\n",
              " 4,\n",
              " 4,\n",
              " 4,\n",
              " 4,\n",
              " 4,\n",
              " 4,\n",
              " 4,\n",
              " 4,\n",
              " 4,\n",
              " 4,\n",
              " 4,\n",
              " 4,\n",
              " 4,\n",
              " 4,\n",
              " 4,\n",
              " 4,\n",
              " 4,\n",
              " 4,\n",
              " 4,\n",
              " 4,\n",
              " 4,\n",
              " 4,\n",
              " 4,\n",
              " 4,\n",
              " 4,\n",
              " 4,\n",
              " 4,\n",
              " 4,\n",
              " 4,\n",
              " 4,\n",
              " 4,\n",
              " 4,\n",
              " 4,\n",
              " 4,\n",
              " 4,\n",
              " 4,\n",
              " 4,\n",
              " 4,\n",
              " 4,\n",
              " 4,\n",
              " 4,\n",
              " 4,\n",
              " 4,\n",
              " 4,\n",
              " 4,\n",
              " 4,\n",
              " 4,\n",
              " 4,\n",
              " 4,\n",
              " 4,\n",
              " 4,\n",
              " 4,\n",
              " 4,\n",
              " 4,\n",
              " 4,\n",
              " 4,\n",
              " 4,\n",
              " 4,\n",
              " 4,\n",
              " 4,\n",
              " 4,\n",
              " 4,\n",
              " 4,\n",
              " 4,\n",
              " 4,\n",
              " 4,\n",
              " 4,\n",
              " 4,\n",
              " 4,\n",
              " 4,\n",
              " 4,\n",
              " 4,\n",
              " 4,\n",
              " 4,\n",
              " 4,\n",
              " 4,\n",
              " 4,\n",
              " 4,\n",
              " 4,\n",
              " 4,\n",
              " 4,\n",
              " 4,\n",
              " 4,\n",
              " 4,\n",
              " 4,\n",
              " 4,\n",
              " 4,\n",
              " 4,\n",
              " 4,\n",
              " 4,\n",
              " 4,\n",
              " 4,\n",
              " 4,\n",
              " 4,\n",
              " 4,\n",
              " 4,\n",
              " 4,\n",
              " 4,\n",
              " 4,\n",
              " 4,\n",
              " 4,\n",
              " 4,\n",
              " 4,\n",
              " 4,\n",
              " 4,\n",
              " 4,\n",
              " 4,\n",
              " 4,\n",
              " 4,\n",
              " 4,\n",
              " 4,\n",
              " 4,\n",
              " 4,\n",
              " 4,\n",
              " 4,\n",
              " 4,\n",
              " 4,\n",
              " 4,\n",
              " 4,\n",
              " 4,\n",
              " 4,\n",
              " 4,\n",
              " 4,\n",
              " 4,\n",
              " 4,\n",
              " 4,\n",
              " 4,\n",
              " 4,\n",
              " 4,\n",
              " 4,\n",
              " 4,\n",
              " 4,\n",
              " 4,\n",
              " 4,\n",
              " 4,\n",
              " 4,\n",
              " 4,\n",
              " 3,\n",
              " 3,\n",
              " 3,\n",
              " 3,\n",
              " 3,\n",
              " 3,\n",
              " 3,\n",
              " 3,\n",
              " 3,\n",
              " 3,\n",
              " 3,\n",
              " 3,\n",
              " 3,\n",
              " 3,\n",
              " 3,\n",
              " 3,\n",
              " 3,\n",
              " 3,\n",
              " 3,\n",
              " 3,\n",
              " 3,\n",
              " 3,\n",
              " 3,\n",
              " 3,\n",
              " 3,\n",
              " 3,\n",
              " 3,\n",
              " 3,\n",
              " 2,\n",
              " 2,\n",
              " 2,\n",
              " 2,\n",
              " 2,\n",
              " 2,\n",
              " 2,\n",
              " 2,\n",
              " 2,\n",
              " 2,\n",
              " 2,\n",
              " 2,\n",
              " 2,\n",
              " 2,\n",
              " 2,\n",
              " 2,\n",
              " 2,\n",
              " 2,\n",
              " 1,\n",
              " 1,\n",
              " 1,\n",
              " 1,\n",
              " 1,\n",
              " 1,\n",
              " 1,\n",
              " 1,\n",
              " 1,\n",
              " 1,\n",
              " 1,\n",
              " 1]"
            ]
          },
          "metadata": {},
          "execution_count": 57
        }
      ]
    },
    {
      "cell_type": "code",
      "metadata": {
        "id": "XC9tOgvuLFiD"
      },
      "source": [
        "i = 0\n",
        "date = [0]*374\n",
        "while (i<374):\n",
        "  if (ye[i]==1):\n",
        "    date[i] = 0\n",
        "  if (ye[i]==2):\n",
        "    date[i] = 365\n",
        "  if (ye[i]==3):\n",
        "    date[i] = 730\n",
        "  if (ye[i]==4):\n",
        "    date[i] = 1096\n",
        "  if (ye[i]==5):\n",
        "    date[i] = 1461\n",
        "  date[i] += m[i]\n",
        "  if (ye[i]==3 and mo[i]>2):\n",
        "    date[i] +=1\n",
        "  date[i] += int(X[i][-7:-5])\n",
        "  i+=1"
      ],
      "execution_count": null,
      "outputs": []
    },
    {
      "cell_type": "code",
      "metadata": {
        "colab": {
          "base_uri": "https://localhost:8080/"
        },
        "id": "CMXi7HZ-RqbN",
        "outputId": "a087d629-f2f8-4dbd-d906-56d22ac2a0ba"
      },
      "source": [
        "date[0]"
      ],
      "execution_count": null,
      "outputs": [
        {
          "output_type": "execute_result",
          "data": {
            "text/plain": [
              "1570"
            ]
          },
          "metadata": {},
          "execution_count": 59
        }
      ]
    },
    {
      "cell_type": "code",
      "metadata": {
        "id": "_RcrEi8RTSph"
      },
      "source": [
        "X = date"
      ],
      "execution_count": null,
      "outputs": []
    },
    {
      "cell_type": "code",
      "metadata": {
        "colab": {
          "base_uri": "https://localhost:8080/"
        },
        "id": "xJEujNApTVOa",
        "outputId": "29d008cf-38b6-45fd-efb9-402acb1b4f90"
      },
      "source": [
        "X[0]"
      ],
      "execution_count": null,
      "outputs": [
        {
          "output_type": "execute_result",
          "data": {
            "text/plain": [
              "1570"
            ]
          },
          "metadata": {},
          "execution_count": 61
        }
      ]
    },
    {
      "cell_type": "markdown",
      "metadata": {
        "id": "ptNjcy7bOBlD"
      },
      "source": [
        "## Splitting the dataset into the Training set and Test set"
      ]
    },
    {
      "cell_type": "code",
      "metadata": {
        "id": "iEMNed5kT9wN"
      },
      "source": [
        "X = np.array(X)"
      ],
      "execution_count": null,
      "outputs": []
    },
    {
      "cell_type": "code",
      "metadata": {
        "id": "I5nFaffOUl6j"
      },
      "source": [
        "X= X.reshape(374,1)"
      ],
      "execution_count": null,
      "outputs": []
    },
    {
      "cell_type": "code",
      "metadata": {
        "id": "C7NdofoCOFQF"
      },
      "source": [
        "from sklearn.model_selection import train_test_split\n",
        "X_train, X_test, y_train, y_test = train_test_split(X, y, test_size = 0.2, random_state = 0)"
      ],
      "execution_count": null,
      "outputs": []
    },
    {
      "cell_type": "markdown",
      "metadata": {
        "id": "v4S2fyIBYDcu"
      },
      "source": [
        "## Training the Random Forest Regression model on the whole dataset"
      ]
    },
    {
      "cell_type": "code",
      "metadata": {
        "id": "o8dOCoJ1YKMc",
        "colab": {
          "base_uri": "https://localhost:8080/"
        },
        "outputId": "f25eb8d8-6449-4385-c21c-7047f5c36507"
      },
      "source": [
        "from sklearn.ensemble import RandomForestRegressor\n",
        "regressor = RandomForestRegressor(n_estimators = 10, random_state = 0)\n",
        "regressor.fit(X_train, y_train)"
      ],
      "execution_count": null,
      "outputs": [
        {
          "output_type": "execute_result",
          "data": {
            "text/plain": [
              "RandomForestRegressor(bootstrap=True, ccp_alpha=0.0, criterion='mse',\n",
              "                      max_depth=None, max_features='auto', max_leaf_nodes=None,\n",
              "                      max_samples=None, min_impurity_decrease=0.0,\n",
              "                      min_impurity_split=None, min_samples_leaf=1,\n",
              "                      min_samples_split=2, min_weight_fraction_leaf=0.0,\n",
              "                      n_estimators=10, n_jobs=None, oob_score=False,\n",
              "                      random_state=0, verbose=0, warm_start=False)"
            ]
          },
          "metadata": {},
          "execution_count": 65
        }
      ]
    },
    {
      "cell_type": "markdown",
      "metadata": {
        "id": "DM_jh0frOPKE"
      },
      "source": [
        "## Predicting the Test set results"
      ]
    },
    {
      "cell_type": "code",
      "metadata": {
        "id": "JGa9ZfM4OTNw"
      },
      "source": [
        "y_pred = regressor.predict(X_test)\n",
        "np.set_printoptions(precision=2)"
      ],
      "execution_count": null,
      "outputs": []
    },
    {
      "cell_type": "code",
      "metadata": {
        "colab": {
          "base_uri": "https://localhost:8080/"
        },
        "id": "oPJPwgD1VxZB",
        "outputId": "13f73cf4-8ad1-42b3-a875-d68536c00b78"
      },
      "source": [
        "y_pred"
      ],
      "execution_count": null,
      "outputs": [
        {
          "output_type": "execute_result",
          "data": {
            "text/plain": [
              "array([[69.19, 71.95, 77.03, 71.7 ],\n",
              "       [63.47, 66.45, 74.72, 65.9 ],\n",
              "       [67.78, 70.38, 76.49, 70.85],\n",
              "       [70.51, 73.25, 79.62, 73.09],\n",
              "       [70.42, 73.16, 79.53, 73.  ],\n",
              "       [70.17, 72.92, 78.06, 72.74],\n",
              "       [67.84, 70.63, 76.98, 70.28],\n",
              "       [69.36, 72.12, 76.53, 71.88],\n",
              "       [73.03, 75.72, 80.89, 75.75],\n",
              "       [71.51, 74.26, 79.39, 74.15],\n",
              "       [64.29, 67.09, 75.53, 66.77],\n",
              "       [68.98, 71.75, 76.09, 71.49],\n",
              "       [72.22, 74.93, 80.09, 74.89],\n",
              "       [64.28, 67.68, 73.62, 66.75],\n",
              "       [61.24, 68.73, 68.83, 64.06],\n",
              "       [70.44, 73.18, 79.55, 73.02],\n",
              "       [71.61, 74.35, 79.49, 74.26],\n",
              "       [69.18, 71.94, 76.29, 71.69],\n",
              "       [59.8 , 64.95, 66.18, 59.55],\n",
              "       [69.26, 71.85, 75.6 , 71.03],\n",
              "       [69.45, 72.21, 76.56, 71.97],\n",
              "       [72.46, 75.19, 80.33, 75.15],\n",
              "       [69.21, 71.96, 78.32, 71.71],\n",
              "       [70.45, 73.2 , 79.56, 73.03],\n",
              "       [67.24, 69.91, 73.6 , 67.49],\n",
              "       [72.93, 75.63, 80.8 , 75.64],\n",
              "       [70.34, 73.09, 79.45, 72.91],\n",
              "       [66.73, 69.59, 75.87, 69.1 ],\n",
              "       [73.99, 76.7 , 81.84, 76.76],\n",
              "       [74.04, 76.75, 81.89, 76.81],\n",
              "       [64.13, 67.56, 73.47, 66.59],\n",
              "       [71.89, 74.6 , 79.76, 74.55],\n",
              "       [73.01, 75.7 , 80.87, 75.73],\n",
              "       [69.88, 72.63, 78.99, 72.43],\n",
              "       [69.24, 72.  , 76.57, 71.76],\n",
              "       [64.61, 67.94, 73.95, 67.1 ],\n",
              "       [69.82, 72.57, 76.93, 72.38],\n",
              "       [69.28, 72.04, 76.52, 71.8 ],\n",
              "       [74.  , 76.71, 81.85, 76.77],\n",
              "       [72.34, 75.08, 80.21, 75.02],\n",
              "       [73.22, 75.91, 81.08, 75.95],\n",
              "       [65.14, 67.77, 76.37, 67.66],\n",
              "       [67.56, 70.16, 76.38, 70.58],\n",
              "       [71.62, 79.47, 80.17, 74.83],\n",
              "       [72.29, 75.02, 80.16, 74.97],\n",
              "       [73.96, 76.67, 81.81, 76.73],\n",
              "       [63.95, 68.76, 68.99, 64.25],\n",
              "       [71.65, 79.5 , 80.19, 74.85],\n",
              "       [74.  , 76.71, 81.85, 76.77],\n",
              "       [73.33, 76.02, 81.19, 76.06],\n",
              "       [69.33, 72.08, 78.44, 71.84],\n",
              "       [73.99, 76.7 , 81.84, 76.76],\n",
              "       [68.91, 71.67, 78.03, 71.4 ],\n",
              "       [68.41, 71.19, 75.53, 70.89],\n",
              "       [71.83, 74.55, 79.71, 74.48],\n",
              "       [64.4 , 67.77, 73.74, 66.88],\n",
              "       [71.33, 74.06, 79.21, 73.95],\n",
              "       [73.14, 75.86, 81.  , 75.86],\n",
              "       [71.58, 74.3 , 79.46, 74.22],\n",
              "       [69.26, 72.02, 76.52, 71.78],\n",
              "       [69.69, 72.44, 78.8 , 72.23],\n",
              "       [67.31, 70.12, 76.45, 69.72],\n",
              "       [68.68, 71.45, 77.8 , 71.16],\n",
              "       [69.08, 71.85, 78.21, 71.59],\n",
              "       [68.21, 70.99, 77.34, 70.67],\n",
              "       [72.86, 75.55, 80.72, 75.56],\n",
              "       [71.72, 74.44, 79.6 , 74.37],\n",
              "       [64.43, 67.8 , 73.77, 66.91],\n",
              "       [70.16, 72.91, 79.27, 72.72],\n",
              "       [68.07, 70.85, 77.2 , 70.52],\n",
              "       [68.78, 71.55, 75.89, 71.27],\n",
              "       [71.72, 74.44, 79.6 , 74.37],\n",
              "       [73.99, 76.7 , 81.84, 76.76],\n",
              "       [57.06, 65.07, 64.49, 59.48],\n",
              "       [63.62, 66.56, 74.86, 66.05]])"
            ]
          },
          "metadata": {},
          "execution_count": 67
        }
      ]
    },
    {
      "cell_type": "code",
      "metadata": {
        "colab": {
          "base_uri": "https://localhost:8080/"
        },
        "id": "_CH117TBV-vv",
        "outputId": "0d6c2b59-423b-4be3-e294-6ffc72708ab2"
      },
      "source": [
        "y_test"
      ],
      "execution_count": null,
      "outputs": [
        {
          "output_type": "execute_result",
          "data": {
            "text/plain": [
              "array([[69.19, 71.95, 77.06, 71.7 ],\n",
              "       [63.46, 66.45, 74.71, 65.9 ],\n",
              "       [68.09, 70.68, 77.46, 71.17],\n",
              "       [70.52, 73.26, 79.63, 73.1 ],\n",
              "       [70.41, 73.15, 79.52, 72.99],\n",
              "       [70.28, 73.02, 78.17, 72.85],\n",
              "       [67.76, 70.55, 76.89, 70.19],\n",
              "       [69.36, 72.12, 76.52, 71.88],\n",
              "       [73.1 , 75.79, 80.96, 75.82],\n",
              "       [71.53, 74.28, 79.41, 74.17],\n",
              "       [63.99, 66.86, 75.23, 66.45],\n",
              "       [69.07, 71.84, 76.18, 71.58],\n",
              "       [72.07, 74.78, 79.94, 74.74],\n",
              "       [64.28, 67.68, 73.61, 66.75],\n",
              "       [66.29, 73.76, 74.12, 69.45],\n",
              "       [70.43, 73.17, 79.54, 73.01],\n",
              "       [71.52, 74.27, 79.4 , 74.16],\n",
              "       [69.25, 72.01, 76.36, 71.77],\n",
              "       [59.03, 64.87, 66.09, 59.45],\n",
              "       [70.6 , 73.13, 76.91, 70.07],\n",
              "       [69.41, 72.17, 76.52, 71.94],\n",
              "       [72.47, 75.2 , 80.34, 75.16],\n",
              "       [69.15, 71.92, 78.28, 71.66],\n",
              "       [70.83, 73.57, 79.94, 73.43],\n",
              "       [68.94, 71.5 , 75.27, 68.41],\n",
              "       [72.92, 75.62, 80.79, 75.63],\n",
              "       [70.38, 73.12, 79.48, 72.95],\n",
              "       [66.81, 69.66, 75.96, 69.2 ],\n",
              "       [73.91, 76.62, 81.77, 76.67],\n",
              "       [74.02, 76.73, 81.87, 76.79],\n",
              "       [64.15, 67.58, 73.49, 66.61],\n",
              "       [71.89, 74.6 , 79.77, 74.55],\n",
              "       [72.94, 75.64, 80.81, 75.65],\n",
              "       [69.89, 72.64, 79.  , 72.44],\n",
              "       [69.23, 71.99, 76.56, 71.75],\n",
              "       [64.59, 67.92, 73.92, 67.07],\n",
              "       [69.8 , 72.55, 76.9 , 72.35],\n",
              "       [69.32, 72.08, 76.52, 71.84],\n",
              "       [73.99, 76.7 , 81.84, 76.76],\n",
              "       [72.38, 75.11, 80.25, 75.06],\n",
              "       [73.16, 75.85, 81.02, 75.88],\n",
              "       [64.91, 67.58, 76.14, 67.42],\n",
              "       [65.32, 68.21, 76.55, 68.26],\n",
              "       [71.51, 79.36, 80.11, 74.71],\n",
              "       [72.32, 75.06, 80.19, 75.  ],\n",
              "       [73.95, 76.66, 81.8 , 76.72],\n",
              "       [61.2 , 66.5 , 68.25, 61.46],\n",
              "       [73.6 , 81.43, 81.75, 76.93],\n",
              "       [73.93, 76.64, 81.79, 76.69],\n",
              "       [73.33, 76.02, 81.19, 76.06],\n",
              "       [69.26, 72.02, 78.38, 71.78],\n",
              "       [73.94, 76.65, 81.8 , 76.71],\n",
              "       [69.01, 71.77, 78.13, 71.51],\n",
              "       [68.4 , 71.18, 75.52, 70.87],\n",
              "       [71.92, 74.63, 79.8 , 74.58],\n",
              "       [64.3 , 67.69, 73.63, 66.77],\n",
              "       [71.39, 74.11, 79.27, 74.02],\n",
              "       [73.31, 76.03, 81.17, 76.04],\n",
              "       [71.7 , 74.42, 79.58, 74.35],\n",
              "       [69.26, 72.02, 76.52, 71.78],\n",
              "       [69.8 , 72.55, 78.92, 72.34],\n",
              "       [67.5 , 70.29, 76.64, 69.92],\n",
              "       [68.73, 71.5 , 77.86, 71.22],\n",
              "       [70.88, 73.62, 79.99, 73.48],\n",
              "       [68.24, 71.02, 77.37, 70.7 ],\n",
              "       [72.94, 75.64, 80.81, 75.65],\n",
              "       [71.61, 74.36, 79.49, 74.25],\n",
              "       [64.53, 67.88, 73.87, 67.01],\n",
              "       [70.17, 72.91, 79.28, 72.73],\n",
              "       [68.14, 70.92, 77.27, 70.59],\n",
              "       [68.84, 71.61, 75.95, 71.34],\n",
              "       [71.7 , 74.45, 79.58, 74.35],\n",
              "       [73.98, 76.69, 81.83, 76.75],\n",
              "       [58.91, 66.64, 66.36, 61.38],\n",
              "       [63.71, 66.64, 74.95, 66.15]])"
            ]
          },
          "metadata": {},
          "execution_count": 68
        }
      ]
    },
    {
      "cell_type": "markdown",
      "metadata": {
        "id": "Cd8VZM5POWXN"
      },
      "source": [
        "## Evaluating the Model Performance"
      ]
    },
    {
      "cell_type": "code",
      "metadata": {
        "id": "a7y1rXlfOZJo",
        "colab": {
          "base_uri": "https://localhost:8080/"
        },
        "outputId": "30013a51-bb26-4002-d69c-9da6bde83ce4"
      },
      "source": [
        "from sklearn.metrics import r2_score\n",
        "r2_score(y_test, y_pred)"
      ],
      "execution_count": null,
      "outputs": [
        {
          "output_type": "execute_result",
          "data": {
            "text/plain": [
              "0.9435022601511434"
            ]
          },
          "metadata": {},
          "execution_count": 69
        }
      ]
    },
    {
      "cell_type": "markdown",
      "metadata": {
        "id": "tBjH59hpXgUZ"
      },
      "source": [
        "## Plotting the Results"
      ]
    },
    {
      "cell_type": "markdown",
      "metadata": {
        "id": "F75MkKDSXlag"
      },
      "source": [
        "### Delhi"
      ]
    },
    {
      "cell_type": "code",
      "metadata": {
        "colab": {
          "base_uri": "https://localhost:8080/",
          "height": 232
        },
        "id": "WEaW_Y1gXkgf",
        "outputId": "9425bf1d-527f-436a-9c8d-ebb69f538fce"
      },
      "source": [
        "plt.plot(y_test[:,0],color='red')\n",
        "plt.plot(y_pred[:,0],color='blue')\n",
        "plt.xlabel(\"Time\")\n",
        "plt.ylabel(\"Price of Petrol in INR\")\n",
        "plt.title(\"Petrol Prices in Delhi\")\n",
        "plt.legend((\"True Values\",\"Predicted Values\"))\n",
        "plt.show()"
      ],
      "execution_count": null,
      "outputs": [
        {
          "output_type": "display_data",
          "data": {
            "image/png": "[encoded data removed]",
            "text/plain": [
              "<Figure size 432x288 with 1 Axes>"
            ]
          },
          "metadata": {
            "needs_background": "light"
          }
        }
      ]
    },
    {
      "cell_type": "markdown",
      "metadata": {
        "id": "aVJmOkKFjST-"
      },
      "source": [
        "### Kolkata"
      ]
    },
    {
      "cell_type": "code",
      "metadata": {
        "colab": {
          "base_uri": "https://localhost:8080/",
          "height": 232
        },
        "id": "Frf0grX5jNny",
        "outputId": "f298882a-3c13-4d84-fbc9-35f157d35ef5"
      },
      "source": [
        "plt.plot(y_test[:,1],color='red')\n",
        "plt.plot(y_pred[:,1],color='blue')\n",
        "plt.xlabel(\"Time\")\n",
        "plt.ylabel(\"Price of Petrol in INR\")\n",
        "plt.title(\"Petrol Prices in Kolkata\")\n",
        "plt.legend((\"True Values\",\"Predicted Values\"))\n",
        "plt.show()"
      ],
      "execution_count": null,
      "outputs": [
        {
          "output_type": "display_data",
          "data": {
            "image/png": "[encoded data removed]",
            "text/plain": [
              "<Figure size 432x288 with 1 Axes>"
            ]
          },
          "metadata": {
            "needs_background": "light"
          }
        }
      ]
    },
    {
      "cell_type": "markdown",
      "metadata": {
        "id": "N0ioxVVTjj0O"
      },
      "source": [
        "### Mumbai"
      ]
    },
    {
      "cell_type": "code",
      "metadata": {
        "colab": {
          "base_uri": "https://localhost:8080/",
          "height": 232
        },
        "id": "hZ9G7uxxjmx-",
        "outputId": "c71e01d0-274f-46cb-a01c-d3455d08b3d9"
      },
      "source": [
        "plt.plot(y_test[:,2],color='red')\n",
        "plt.plot(y_pred[:,2],color='blue')\n",
        "plt.xlabel(\"Time\")\n",
        "plt.ylabel(\"Price of Petrol in INR\")\n",
        "plt.title(\"Petrol Prices in Mumbai\")\n",
        "plt.legend((\"True Values\",\"Predicted Values\"))\n",
        "plt.show()"
      ],
      "execution_count": null,
      "outputs": [
        {
          "output_type": "display_data",
          "data": {
            "image/png": "[encoded data removed]",
            "text/plain": [
              "<Figure size 432x288 with 1 Axes>"
            ]
          },
          "metadata": {
            "needs_background": "light"
          }
        }
      ]
    },
    {
      "cell_type": "markdown",
      "metadata": {
        "id": "6AdyqRir6tj9"
      },
      "source": [
        "### Chennai"
      ]
    },
    {
      "cell_type": "code",
      "metadata": {
        "colab": {
          "base_uri": "https://localhost:8080/",
          "height": 232
        },
        "id": "_pXhJXQ86sKZ",
        "outputId": "fe74c708-eaaa-494e-8414-3605c3a1b95c"
      },
      "source": [
        "plt.plot(y_test[:,3],color='red')\n",
        "plt.plot(y_pred[:,3],color='blue')\n",
        "plt.xlabel(\"Time\")\n",
        "plt.ylabel(\"Price of Petrol in INR\")\n",
        "plt.title(\"Petrol Prices in Chennai\")\n",
        "plt.legend((\"True Values\",\"Predicted Values\"))\n",
        "plt.show()"
      ],
      "execution_count": null,
      "outputs": [
        {
          "output_type": "display_data",
          "data": {
            "image/png": "[encoded data removed]",
            "text/plain": [
              "<Figure size 432x288 with 1 Axes>"
            ]
          },
          "metadata": {
            "needs_background": "light"
          }
        }
      ]
    }
  ]
}